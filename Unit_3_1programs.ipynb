{
  "nbformat": 4,
  "nbformat_minor": 0,
  "metadata": {
    "colab": {
      "provenance": [],
      "authorship_tag": "ABX9TyPIF8GecoUHce6H3P8GMpMC",
      "include_colab_link": true
    },
    "kernelspec": {
      "name": "python3",
      "display_name": "Python 3"
    },
    "language_info": {
      "name": "python"
    }
  },
  "cells": [
    {
      "cell_type": "markdown",
      "metadata": {
        "id": "view-in-github",
        "colab_type": "text"
      },
      "source": [
        "<a href=\"https://colab.research.google.com/github/SadvikaPabolu/IIy-IIIs-python/blob/main/Unit_3_1programs.ipynb\" target=\"_parent\"><img src=\"https://colab.research.google.com/assets/colab-badge.svg\" alt=\"Open In Colab\"/></a>"
      ]
    },
    {
      "cell_type": "code",
      "execution_count": 8,
      "metadata": {
        "colab": {
          "base_uri": "https://localhost:8080/"
        },
        "id": "204zZiOA7dqw",
        "outputId": "6ea63ed0-524c-4877-b20b-6a37662c4c74"
      },
      "outputs": [
        {
          "output_type": "stream",
          "name": "stdout",
          "text": [
            "Array 1: [10 20 30]\n",
            "Array 2: [1 2 3]\n",
            "Result (Array1 + Array2): [11 22 33]\n"
          ]
        }
      ],
      "source": [
        "\n",
        "import numpy as np\n",
        "\n",
        "array1= np.array([10, 20, 30])\n",
        "\n",
        "array2= np.array([1, 2, 3])\n",
        "\n",
        "result = np.add(array1, array2)\n",
        "\n",
        "print(\"Array 1:\", array1)\n",
        "print(\"Array 2:\", array2)\n",
        "print(\"Result (Array1 + Array2):\", result)"
      ]
    },
    {
      "cell_type": "code",
      "source": [
        "# Program (b)\n",
        "import numpy as np\n",
        "\n",
        "# Create an array\n",
        "arr = np.array([1, 2, 3, 4, 5])\n",
        "\n",
        "# Test if none of the elements is zero\n",
        "result = np.all(arr)  # returns True if all elements are non-zero\n",
        "\n",
        "print(\"Array:\", arr)\n",
        "print(\"None of the elements are zero:\", result)\n"
      ],
      "metadata": {
        "colab": {
          "base_uri": "https://localhost:8080/"
        },
        "id": "BVULZWDs8eRA",
        "outputId": "4c85e59a-934e-4d16-93a5-4abeeabac8e0"
      },
      "execution_count": 9,
      "outputs": [
        {
          "output_type": "stream",
          "name": "stdout",
          "text": [
            "Array: [1 2 3 4 5]\n",
            "None of the elements are zero: True\n"
          ]
        }
      ]
    },
    {
      "cell_type": "code",
      "source": [
        "# Program (c)\n",
        "import numpy as np\n",
        "\n",
        "# Create two arrays\n",
        "x = np.array([2, 5, 8, 10])\n",
        "y = np.array([3, 5, 7, 10])\n",
        "\n",
        "# Element-wise comparisons\n",
        "print(\"Array x:\", x)\n",
        "print(\"Array y:\", y)\n",
        "\n",
        "print(\"\\nGreater (x > y):\", np.greater(x, y))\n",
        "print(\"Greater equal (x >= y):\", np.greater_equal(x, y))\n",
        "print(\"Less (x < y):\", np.less(x, y))\n",
        "print(\"Less equal (x <= y):\", np.less_equal(x, y))\n",
        "print(\"Equal (x == y):\", np.equal(x, y))\n",
        "print(\"Equal within tolerance (allclose):\", np.allclose(x, y))\n"
      ],
      "metadata": {
        "colab": {
          "base_uri": "https://localhost:8080/"
        },
        "id": "ZySXa5az-ZJI",
        "outputId": "de8af29c-9f09-48a6-97df-65e47fbfeb05"
      },
      "execution_count": 10,
      "outputs": [
        {
          "output_type": "stream",
          "name": "stdout",
          "text": [
            "Array x: [ 2  5  8 10]\n",
            "Array y: [ 3  5  7 10]\n",
            "\n",
            "Greater (x > y): [False False  True False]\n",
            "Greater equal (x >= y): [False  True  True  True]\n",
            "Less (x < y): [ True False False False]\n",
            "Less equal (x <= y): [ True  True False  True]\n",
            "Equal (x == y): [False  True False  True]\n",
            "Equal within tolerance (allclose): False\n"
          ]
        }
      ]
    }
  ]
}