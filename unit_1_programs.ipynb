{
  "nbformat": 4,
  "nbformat_minor": 0,
  "metadata": {
    "colab": {
      "provenance": [],
      "authorship_tag": "ABX9TyN8TBSmB0GsLT6OOIB7i+5T",
      "include_colab_link": true
    },
    "kernelspec": {
      "name": "python3",
      "display_name": "Python 3"
    },
    "language_info": {
      "name": "python"
    }
  },
  "cells": [
    {
      "cell_type": "markdown",
      "metadata": {
        "id": "view-in-github",
        "colab_type": "text"
      },
      "source": [
        "<a href=\"https://colab.research.google.com/github/SadvikaPabolu/IIy-IIIs-python/blob/main/unit_1_programs.ipynb\" target=\"_parent\"><img src=\"https://colab.research.google.com/assets/colab-badge.svg\" alt=\"Open In Colab\"/></a>"
      ]
    },
    {
      "cell_type": "code",
      "execution_count": null,
      "metadata": {
        "colab": {
          "base_uri": "https://localhost:8080/"
        },
        "id": "VYJM_NT1UmpA",
        "outputId": "03a67fe8-4a83-4afc-dde7-7d27425ae17c"
      },
      "outputs": [
        {
          "output_type": "stream",
          "name": "stdout",
          "text": [
            "Enter weight in kilograms: 56\n",
            "56.0 kilograms is equal to 179.20 pounds.\n"
          ]
        }
      ],
      "source": [
        "# Conversion factor\n",
        "KG_TO_POUNDS = 3.2\n",
        "# Ask the user for weight in kilograms\n",
        "kg = float(input(\"Enter weight in kilograms: \"))\n",
        "# Convert to pounds\n",
        "pounds = kg * KG_TO_POUNDS\n",
        "print(f\"{kg} kilograms is equal to {pounds:.2f} pounds.\")\n"
      ]
    },
    {
      "cell_type": "code",
      "source": [
        "for n in range(8,90,3):\n",
        "    print(n,end=\",\")\n"
      ],
      "metadata": {
        "colab": {
          "base_uri": "https://localhost:8080/"
        },
        "id": "IOq_x4JuUtON",
        "outputId": "52499ba7-8a59-4759-d96d-b27b1f6082d9"
      },
      "execution_count": null,
      "outputs": [
        {
          "output_type": "stream",
          "name": "stdout",
          "text": [
            "8,11,14,17,20,23,26,29,32,35,38,41,44,47,50,53,56,59,62,65,68,71,74,77,80,83,86,89,"
          ]
        }
      ]
    },
    {
      "cell_type": "code",
      "source": [
        "text=\"zari\"\n",
        "char_list=list(text)\n",
        "print(char_list)\n"
      ],
      "metadata": {
        "colab": {
          "base_uri": "https://localhost:8080/"
        },
        "id": "1bwcr7nNU1aH",
        "outputId": "ca387f32-4e4c-4b19-ca3f-6511a8d211a6"
      },
      "execution_count": null,
      "outputs": [
        {
          "output_type": "stream",
          "name": "stdout",
          "text": [
            "['z', 'a', 'r', 'i']\n"
          ]
        }
      ]
    },
    {
      "cell_type": "code",
      "source": [
        "numbers = [12, 45, 67, 23, 89, 34]\n",
        "largest = max(numbers)\n",
        "print(\"The largest number is:\", largest)\n"
      ],
      "metadata": {
        "id": "SSHfVlZWU54i",
        "outputId": "a4c57850-d5a1-4528-a149-2bba423c7456",
        "colab": {
          "base_uri": "https://localhost:8080/"
        }
      },
      "execution_count": null,
      "outputs": [
        {
          "output_type": "stream",
          "name": "stdout",
          "text": [
            "The largest number is: 89\n"
          ]
        }
      ]
    },
    {
      "cell_type": "code",
      "source": [
        "def fibonacci(n):\n",
        "    if n <= 0:\n",
        "        return \"Invalid input. n must be a positive integer.\"\n",
        "    elif n == 1:\n",
        "        return 0\n",
        "    elif n == 2:\n",
        "        return 1\n",
        "    else:\n",
        "        a, b = 0, 1\n",
        "        for _ in range(2, n):\n",
        "            a, b = b, a + b\n",
        "        return b\n",
        "n = int(input(\"Enter the position (n) of the Fibonacci number: \"))\n",
        "result = fibonacci(n)\n",
        "print(f\"The {n}th Fibonacci number is:\", result)\n",
        "\n"
      ],
      "metadata": {
        "id": "J7YM-LpZU-Rf",
        "outputId": "cd65fae1-c307-48a7-e35c-1a781b6767c4",
        "colab": {
          "base_uri": "https://localhost:8080/"
        }
      },
      "execution_count": null,
      "outputs": [
        {
          "output_type": "stream",
          "name": "stdout",
          "text": [
            "Enter the position (n) of the Fibonacci number: 56\n",
            "The 56th Fibonacci number is: 139583862445\n"
          ]
        }
      ]
    }
  ]
}